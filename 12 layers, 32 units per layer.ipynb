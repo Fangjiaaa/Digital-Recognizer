{
 "cells": [
  {
   "cell_type": "code",
   "execution_count": 1,
   "metadata": {},
   "outputs": [
    {
     "name": "stderr",
     "output_type": "stream",
     "text": [
      "Using TensorFlow backend.\n"
     ]
    }
   ],
   "source": [
    "#import library\n",
    "from keras.models import Sequential\n",
    "from keras.utils import np_utils\n",
    "from keras.utils.np_utils import to_categorical\n",
    "from sklearn import preprocessing\n",
    "from keras.layers.core import Dense, Activation, Dropout\n",
    "from keras.optimizers import RMSprop\n",
    "import pandas as pd\n",
    "import numpy as np\n"
   ]
  },
  {
   "cell_type": "code",
   "execution_count": 2,
   "metadata": {},
   "outputs": [
    {
     "name": "stdout",
     "output_type": "stream",
     "text": [
      "(42000, 785)\n",
      "(42000, 785)\n"
     ]
    }
   ],
   "source": [
    "#read train.csv\n",
    "train = pd.read_csv(\"C:\\\\Users\\\\fangj\\\\Desktop\\\\Project\\\\train.csv\")\n",
    "print(train.shape)\n",
    "\n",
    "\n",
    "#read test.csv\n",
    "test = pd.read_csv(\"C:\\\\Users\\\\fangj\\\\Desktop\\\\Project\\\\test.csv\")\n",
    "print(train.shape)\n",
    "\n",
    "\n",
    "#pixels in train.csv\n",
    "y_train = train.iloc[:,0].values.astype('int32')\n",
    "\n",
    "#lables in train.csv(header row)\n",
    "X_train = (train.iloc[:,1:].values).astype('float32')\n",
    "\n",
    "#pixels in test.csv\n",
    "X_test = test.values.astype('float32')\n",
    "\n",
    "#output file \n",
    "output = \"output3.csv\"\n",
    "\n"
   ]
  },
  {
   "cell_type": "code",
   "execution_count": 3,
   "metadata": {},
   "outputs": [
    {
     "name": "stdout",
     "output_type": "stream",
     "text": [
      "[[0. 1. 0. ... 0. 0. 0.]\n",
      " [1. 0. 0. ... 0. 0. 0.]\n",
      " [0. 1. 0. ... 0. 0. 0.]\n",
      " ...\n",
      " [0. 0. 0. ... 1. 0. 0.]\n",
      " [0. 0. 0. ... 0. 0. 0.]\n",
      " [0. 0. 0. ... 0. 0. 1.]]\n"
     ]
    }
   ],
   "source": [
    "# one hot encoding the labels\n",
    "y_train = to_categorical(y_train) \n",
    "print(y_train)"
   ]
  },
  {
   "cell_type": "code",
   "execution_count": 4,
   "metadata": {},
   "outputs": [],
   "source": [
    "# pre-processing, noemalize pixel values\n",
    "\n",
    "X_train = X_train /255\n",
    "X_test = X_test /255\n"
   ]
  },
  {
   "cell_type": "code",
   "execution_count": 5,
   "metadata": {
    "scrolled": true
   },
   "outputs": [
    {
     "name": "stdout",
     "output_type": "stream",
     "text": [
      "WARNING:tensorflow:From C:\\Users\\fangj\\Anaconda3\\lib\\site-packages\\tensorflow\\python\\framework\\op_def_library.py:263: colocate_with (from tensorflow.python.framework.ops) is deprecated and will be removed in a future version.\n",
      "Instructions for updating:\n",
      "Colocations handled automatically by placer.\n",
      "WARNING:tensorflow:From C:\\Users\\fangj\\Anaconda3\\lib\\site-packages\\keras\\backend\\tensorflow_backend.py:3445: calling dropout (from tensorflow.python.ops.nn_ops) with keep_prob is deprecated and will be removed in a future version.\n",
      "Instructions for updating:\n",
      "Please use `rate` instead of `keep_prob`. Rate should be set to `rate = 1 - keep_prob`.\n"
     ]
    }
   ],
   "source": [
    "# Design the neural network, we use 12layers, 32 units per layer in this model\n",
    "model = Sequential()\n",
    "model.add(Dense(32, input_dim=784)) #28*28 = 784 input dimensions\n",
    "model.add(Activation('relu'))\n",
    "model.add(Dropout(0.15))\n",
    "\n",
    "model.add(Dense(32))\n",
    "model.add(Activation('relu'))\n",
    "model.add(Dropout(0.15))\n",
    "\n",
    "model.add(Dense(32))\n",
    "model.add(Activation('relu'))\n",
    "model.add(Dropout(0.15))\n",
    "\n",
    "model.add(Dense(32))\n",
    "model.add(Activation('relu'))\n",
    "model.add(Dropout(0.15))\n",
    "\n",
    "model.add(Dense(32))\n",
    "model.add(Activation('relu'))\n",
    "model.add(Dropout(0.15))\n",
    "\n",
    "model.add(Dense(32))\n",
    "model.add(Activation('relu'))\n",
    "model.add(Dropout(0.15))\n",
    "\n",
    "model.add(Dense(32))\n",
    "model.add(Activation('relu'))\n",
    "model.add(Dropout(0.15))\n",
    "\n",
    "model.add(Dense(32))\n",
    "model.add(Activation('relu'))\n",
    "model.add(Dropout(0.15))\n",
    "\n",
    "model.add(Dense(32))\n",
    "model.add(Activation('relu'))\n",
    "model.add(Dropout(0.15))\n",
    "\n",
    "model.add(Dense(32))\n",
    "model.add(Activation('relu'))\n",
    "model.add(Dropout(0.15))\n",
    "\n",
    "model.add(Dense(32))\n",
    "model.add(Activation('relu'))\n",
    "model.add(Dropout(0.15))\n",
    "\n",
    "model.add(Dense(32))\n",
    "model.add(Activation('relu'))\n",
    "model.add(Dropout(0.15))\n",
    "model.add(Dense(10)) #10 classes [0-9]\n",
    "model.add(Activation('softmax'))"
   ]
  },
  {
   "cell_type": "code",
   "execution_count": 6,
   "metadata": {},
   "outputs": [
    {
     "name": "stdout",
     "output_type": "stream",
     "text": [
      "WARNING:tensorflow:From C:\\Users\\fangj\\Anaconda3\\lib\\site-packages\\tensorflow\\python\\ops\\math_ops.py:3066: to_int32 (from tensorflow.python.ops.math_ops) is deprecated and will be removed in a future version.\n",
      "Instructions for updating:\n",
      "Use tf.cast instead.\n",
      "Train on 37800 samples, validate on 4200 samples\n",
      "Epoch 1/10\n",
      " - 13s - loss: 1.6368 - acc: 0.3429 - val_loss: 1.1498 - val_acc: 0.6031\n",
      "Epoch 2/10\n",
      " - 12s - loss: 1.1304 - acc: 0.6142 - val_loss: 0.8107 - val_acc: 0.7690\n",
      "Epoch 3/10\n",
      " - 12s - loss: 0.9517 - acc: 0.7170 - val_loss: 0.7577 - val_acc: 0.8312\n",
      "Epoch 4/10\n",
      " - 12s - loss: 0.8677 - acc: 0.7786 - val_loss: 0.6835 - val_acc: 0.8243\n",
      "Epoch 5/10\n",
      " - 13s - loss: 0.7986 - acc: 0.8091 - val_loss: 0.5671 - val_acc: 0.8736\n",
      "Epoch 6/10\n",
      " - 12s - loss: 0.7532 - acc: 0.8286 - val_loss: 0.5568 - val_acc: 0.8857\n",
      "Epoch 7/10\n",
      " - 11s - loss: 0.7364 - acc: 0.8424 - val_loss: 0.5579 - val_acc: 0.8795\n",
      "Epoch 8/10\n",
      " - 11s - loss: 0.7029 - acc: 0.8489 - val_loss: 0.5620 - val_acc: 0.8926\n",
      "Epoch 9/10\n",
      " - 11s - loss: 0.7166 - acc: 0.8574 - val_loss: 0.5528 - val_acc: 0.8979\n",
      "Epoch 10/10\n",
      " - 12s - loss: 0.7335 - acc: 0.8546 - val_loss: 0.5051 - val_acc: 0.9050\n"
     ]
    }
   ],
   "source": [
    "# compile the network, use RMSprop as the optimizer\n",
    "optimizer = RMSprop(lr=0.001, rho=0.9, epsilon=1e-08, decay=0.0)\n",
    "model.compile(loss='categorical_crossentropy', optimizer=optimizer, metrics=['accuracy'])\n",
    "model.fit(X_train, y_train, epochs=10, batch_size=16, validation_split=0.1,  verbose=2)\n",
    "prediction = model.predict_classes(X_test, verbose=0)\n",
    "\n",
    "#generate output files\n",
    "def write_preds(prediction, fname):\n",
    "    pd.DataFrame({\"ImageId\": list(range(1,len(prediction)+1)), \"Label\": prediction}).to_csv(fname, index=False, header=True)\n",
    "\n",
    "write_preds(prediction, output)\n"
   ]
  }
 ],
 "metadata": {
  "kernelspec": {
   "display_name": "Python 3",
   "language": "python",
   "name": "python3"
  },
  "language_info": {
   "codemirror_mode": {
    "name": "ipython",
    "version": 3
   },
   "file_extension": ".py",
   "mimetype": "text/x-python",
   "name": "python",
   "nbconvert_exporter": "python",
   "pygments_lexer": "ipython3",
   "version": "3.7.3"
  }
 },
 "nbformat": 4,
 "nbformat_minor": 2
}
